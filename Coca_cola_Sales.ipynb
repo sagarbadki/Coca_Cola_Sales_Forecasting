{
  "nbformat": 4,
  "nbformat_minor": 0,
  "metadata": {
    "colab": {
      "name": "Coca_cola_Sales",
      "provenance": [],
      "collapsed_sections": []
    },
    "kernelspec": {
      "name": "python3",
      "display_name": "Python 3"
    }
  },
  "cells": [
    {
      "cell_type": "code",
      "metadata": {
        "id": "dLiZBnHeK_gi",
        "colab_type": "code",
        "colab": {}
      },
      "source": [
        "import pandas as pd\n",
        "import numpy as np\n",
        "import matplotlib.pyplot as plt\n",
        "import seaborn as sns\n",
        "plt.style.use('fivethirtyeight')\n",
        "import warnings\n",
        "warnings.filterwarnings(\"ignore\")"
      ],
      "execution_count": 0,
      "outputs": []
    },
    {
      "cell_type": "code",
      "metadata": {
        "id": "9cRXkiIWLeph",
        "colab_type": "code",
        "colab": {}
      },
      "source": [
        "df=pd.read_excel('/content/drive/My Drive/Projects/CocaCola_Sales_Rawdata.xlsx')"
      ],
      "execution_count": 0,
      "outputs": []
    },
    {
      "cell_type": "code",
      "metadata": {
        "id": "kprjN0h-LpGz",
        "colab_type": "code",
        "outputId": "dba359af-a41d-496d-d259-ff83211e4b06",
        "colab": {
          "base_uri": "https://localhost:8080/",
          "height": 68
        }
      },
      "source": [
        "#check for null values\n",
        "df.isnull().sum()"
      ],
      "execution_count": 0,
      "outputs": [
        {
          "output_type": "execute_result",
          "data": {
            "text/plain": [
              "Quarter    0\n",
              "Sales      0\n",
              "dtype: int64"
            ]
          },
          "metadata": {
            "tags": []
          },
          "execution_count": 133
        }
      ]
    },
    {
      "cell_type": "code",
      "metadata": {
        "id": "WasIraRiLpxq",
        "colab_type": "code",
        "outputId": "1dc648e3-c3c3-4919-8ac8-5b0452e6bf3e",
        "colab": {
          "base_uri": "https://localhost:8080/",
          "height": 136
        }
      },
      "source": [
        "df['Quarter'].unique()"
      ],
      "execution_count": 0,
      "outputs": [
        {
          "output_type": "execute_result",
          "data": {
            "text/plain": [
              "array(['Q1_86', 'Q2_86', 'Q3_86', 'Q4_86', 'Q1_87', 'Q2_87', 'Q3_87',\n",
              "       'Q4_87', 'Q1_88', 'Q2_88', 'Q3_88', 'Q4_88', 'Q1_89', 'Q2_89',\n",
              "       'Q3_89', 'Q4_89', 'Q1_90', 'Q2_90', 'Q3_90', 'Q4_90', 'Q1_91',\n",
              "       'Q2_91', 'Q3_91', 'Q4_91', 'Q1_92', 'Q2_92', 'Q3_92', 'Q4_92',\n",
              "       'Q1_93', 'Q2_93', 'Q3_93', 'Q4_93', 'Q1_94', 'Q2_94', 'Q3_94',\n",
              "       'Q4_94', 'Q1_95', 'Q2_95', 'Q3_95', 'Q4_95', 'Q1_96', 'Q2_96'],\n",
              "      dtype=object)"
            ]
          },
          "metadata": {
            "tags": []
          },
          "execution_count": 134
        }
      ]
    },
    {
      "cell_type": "markdown",
      "metadata": {
        "id": "aZCirrTyrChV",
        "colab_type": "text"
      },
      "source": [
        "we have 9 year and two Quarter (6 months) data"
      ]
    },
    {
      "cell_type": "code",
      "metadata": {
        "id": "IS8-cM9MMw0d",
        "colab_type": "code",
        "outputId": "1d9adbf1-da9f-408c-abb9-cbbe9bcd934c",
        "colab": {
          "base_uri": "https://localhost:8080/",
          "height": 34
        }
      },
      "source": [
        "df.shape"
      ],
      "execution_count": 0,
      "outputs": [
        {
          "output_type": "execute_result",
          "data": {
            "text/plain": [
              "(42, 2)"
            ]
          },
          "metadata": {
            "tags": []
          },
          "execution_count": 135
        }
      ]
    },
    {
      "cell_type": "code",
      "metadata": {
        "id": "QRGXo7FkNBiC",
        "colab_type": "code",
        "outputId": "19888302-3a6a-4ee8-94ae-9e5feba147d1",
        "colab": {
          "base_uri": "https://localhost:8080/",
          "height": 299
        }
      },
      "source": [
        "df.plot()"
      ],
      "execution_count": 0,
      "outputs": [
        {
          "output_type": "execute_result",
          "data": {
            "text/plain": [
              "<matplotlib.axes._subplots.AxesSubplot at 0x7f982934e470>"
            ]
          },
          "metadata": {
            "tags": []
          },
          "execution_count": 136
        },
        {
          "output_type": "display_data",
          "data": {
            "image/png": "[encoded data removed]",
            "text/plain": [
              "<Figure size 432x288 with 1 Axes>"
            ]
          },
          "metadata": {
            "tags": []
          }
        }
      ]
    },
    {
      "cell_type": "markdown",
      "metadata": {
        "id": "62zy1YGNrJmr",
        "colab_type": "text"
      },
      "source": [
        "we can clearly see the cocacola consumptions are increasing Quarter by Quarter therefore upward trend is there.\n",
        "\n",
        "it seems like maximum cocacola consumptions are occured by first Quarter of every year because of summer (hotness)"
      ]
    },
    {
      "cell_type": "code",
      "metadata": {
        "id": "Ciw1RNihVIu7",
        "colab_type": "code",
        "colab": {}
      },
      "source": [
        "# convert categorical into dummy variables\n",
        "new_data=pd.get_dummies(df,drop_first=True)"
      ],
      "execution_count": 0,
      "outputs": []
    },
    {
      "cell_type": "code",
      "metadata": {
        "id": "kiE0gfkGOu6S",
        "colab_type": "code",
        "colab": {}
      },
      "source": [
        "# data validation\n",
        "size=int(len(df)*0.8)\n",
        "train=new_data[:size]\n",
        "test=new_data[size:]"
      ],
      "execution_count": 0,
      "outputs": []
    },
    {
      "cell_type": "code",
      "metadata": {
        "id": "3yKSdKKhWL7N",
        "colab_type": "code",
        "colab": {}
      },
      "source": [
        "X_train,y_train=train.drop('Sales',axis=1),train['Sales']\n",
        "X_test,y_test=test.drop('Sales',axis=1),test['Sales']"
      ],
      "execution_count": 0,
      "outputs": []
    },
    {
      "cell_type": "code",
      "metadata": {
        "id": "-HwpxKPDQGCC",
        "colab_type": "code",
        "outputId": "65088a38-dd71-4461-f5bc-a46448f60fc2",
        "colab": {
          "base_uri": "https://localhost:8080/",
          "height": 85
        }
      },
      "source": [
        "print('X_train size',X_train.shape)\n",
        "print('X_test size',X_test.shape)\n",
        "print('y_train size',y_train.shape)\n",
        "print('y_test size',y_test.shape)"
      ],
      "execution_count": 0,
      "outputs": [
        {
          "output_type": "stream",
          "text": [
            "X_train size (33, 41)\n",
            "X_test size (9, 41)\n",
            "y_train size (33,)\n",
            "y_test size (9,)\n"
          ],
          "name": "stdout"
        }
      ]
    },
    {
      "cell_type": "code",
      "metadata": {
        "id": "vCrz8H_5OP1N",
        "colab_type": "code",
        "outputId": "f411b878-b3b2-48cc-d909-ed30291aa10e",
        "colab": {
          "base_uri": "https://localhost:8080/",
          "height": 34
        }
      },
      "source": [
        "# lets go for Linear regression\n",
        "from sklearn.linear_model import  LinearRegression\n",
        "from sklearn.metrics import mean_squared_error\n",
        "reg=LinearRegression()\n",
        "reg.fit(X_train,y_train)\n",
        "y_pred=reg.predict(X_test)\n",
        "\n",
        "Rmse=np.sqrt(mean_squared_error(y_test,y_pred))\n",
        "print('RMSE Score :',Rmse)\n"
      ],
      "execution_count": 0,
      "outputs": [
        {
          "output_type": "stream",
          "text": [
            "RMSE Score : 2775.655200046872\n"
          ],
          "name": "stdout"
        }
      ]
    },
    {
      "cell_type": "code",
      "metadata": {
        "id": "EFmSVJraQ4ps",
        "colab_type": "code",
        "outputId": "8ae1d508-0e20-4641-900d-b98694b12089",
        "colab": {
          "base_uri": "https://localhost:8080/",
          "height": 320
        }
      },
      "source": [
        "#plot\n",
        "test['Predictions'] = 0\n",
        "test['Predictions'] = y_pred\n",
        "\n",
        "test.index = new_data.iloc[size:].index\n",
        "train.index = new_data.iloc[:size].index\n",
        "\n",
        "plt.plot(train['Sales'],label='Train')\n",
        "plt.plot(test['Sales'],label='Test')\n",
        "plt.plot(test['Predictions'],label='Prediction')\n",
        "plt.legend()\n",
        "plt.title('Linear Regression Prediction with RMSE Score {:.2f}'.format(Rmse))"
      ],
      "execution_count": 0,
      "outputs": [
        {
          "output_type": "execute_result",
          "data": {
            "text/plain": [
              "Text(0.5, 1.0, 'Linear Regression Prediction with RMSE Score 2775.66')"
            ]
          },
          "metadata": {
            "tags": []
          },
          "execution_count": 142
        },
        {
          "output_type": "display_data",
          "data": {
            "image/png": "[encoded data removed]",
            "text/plain": [
              "<Figure size 432x288 with 1 Axes>"
            ]
          },
          "metadata": {
            "tags": []
          }
        }
      ]
    },
    {
      "cell_type": "code",
      "metadata": {
        "id": "fByTYuZHRD2d",
        "colab_type": "code",
        "outputId": "38ffae5f-4067-4b8a-8b0e-b8fb2b833274",
        "colab": {
          "base_uri": "https://localhost:8080/",
          "height": 34
        }
      },
      "source": [
        "# look for Random Forest Regressor\n",
        "from sklearn.ensemble import RandomForestRegressor\n",
        "random=RandomForestRegressor()\n",
        "random.fit(X_train,y_train)\n",
        "y_pred=random.predict(X_test)\n",
        "\n",
        "Rmse=np.sqrt(mean_squared_error(y_test,y_pred))\n",
        "print('RMSE Score :',Rmse)\n"
      ],
      "execution_count": 0,
      "outputs": [
        {
          "output_type": "stream",
          "text": [
            "RMSE Score : 2574.3785948804434\n"
          ],
          "name": "stdout"
        }
      ]
    },
    {
      "cell_type": "code",
      "metadata": {
        "id": "iNawJv6vY-cd",
        "colab_type": "code",
        "outputId": "8c4a639b-a5e9-4dbf-90d1-1ebaae3b01dd",
        "colab": {
          "base_uri": "https://localhost:8080/",
          "height": 320
        }
      },
      "source": [
        "test['Predictions'] = 0\n",
        "test['Predictions'] = y_pred\n",
        "\n",
        "test.index = new_data.iloc[size:].index\n",
        "train.index = new_data.iloc[:size].index\n",
        "\n",
        "plt.plot(train['Sales'],label='Train')\n",
        "plt.plot(test['Sales'],label='Test')\n",
        "plt.plot(test['Predictions'],label='Prediction')\n",
        "plt.legend()\n",
        "plt.title('Random Forest Regression Prediction with RMSE Score {:.2f}'.format(Rmse))"
      ],
      "execution_count": 0,
      "outputs": [
        {
          "output_type": "execute_result",
          "data": {
            "text/plain": [
              "Text(0.5, 1.0, 'Random Forest Regression Prediction with RMSE Score 2574.38')"
            ]
          },
          "metadata": {
            "tags": []
          },
          "execution_count": 144
        },
        {
          "output_type": "display_data",
          "data": {
            "image/png": "[encoded data removed]",
            "text/plain": [
              "<Figure size 432x288 with 1 Axes>"
            ]
          },
          "metadata": {
            "tags": []
          }
        }
      ]
    },
    {
      "cell_type": "markdown",
      "metadata": {
        "id": "esiUidoKsTrY",
        "colab_type": "text"
      },
      "source": [
        "we can see there is no significant change"
      ]
    },
    {
      "cell_type": "markdown",
      "metadata": {
        "id": "FE7441ibsa0C",
        "colab_type": "text"
      },
      "source": [
        "lets move to the auto_arima model"
      ]
    },
    {
      "cell_type": "code",
      "metadata": {
        "id": "O9aUYdciZYR5",
        "colab_type": "code",
        "outputId": "b4ae8eb0-0214-4292-b3f0-cf75e806898d",
        "colab": {
          "base_uri": "https://localhost:8080/",
          "height": 309
        }
      },
      "source": [
        "!pip install pyramid-arima"
      ],
      "execution_count": 0,
      "outputs": [
        {
          "output_type": "stream",
          "text": [
            "Collecting pyramid-arima\n",
            "\u001b[?25l  Downloading https://files.pythonhosted.org/packages/5c/84/57422f2a6ade3161c586545e38b518ba1b7ab30ee4a4acc29110c0aba2bc/pyramid_arima-0.9.0-cp36-cp36m-manylinux1_x86_64.whl (597kB)\n",
            "\u001b[K     |████████████████████████████████| 604kB 4.6MB/s \n",
            "\u001b[?25hRequirement already satisfied: Cython>=0.23 in /usr/local/lib/python3.6/dist-packages (from pyramid-arima) (0.29.19)\n",
            "Requirement already satisfied: statsmodels>=0.9.0 in /usr/local/lib/python3.6/dist-packages (from pyramid-arima) (0.10.2)\n",
            "Requirement already satisfied: numpy>=1.10 in /usr/local/lib/python3.6/dist-packages (from pyramid-arima) (1.18.4)\n",
            "Requirement already satisfied: scikit-learn>=0.17 in /usr/local/lib/python3.6/dist-packages (from pyramid-arima) (0.22.2.post1)\n",
            "Requirement already satisfied: scipy>=0.9 in /usr/local/lib/python3.6/dist-packages (from pyramid-arima) (1.4.1)\n",
            "Requirement already satisfied: pandas>=0.19 in /usr/local/lib/python3.6/dist-packages (from pyramid-arima) (1.0.4)\n",
            "Requirement already satisfied: patsy>=0.4.0 in /usr/local/lib/python3.6/dist-packages (from statsmodels>=0.9.0->pyramid-arima) (0.5.1)\n",
            "Requirement already satisfied: joblib>=0.11 in /usr/local/lib/python3.6/dist-packages (from scikit-learn>=0.17->pyramid-arima) (0.15.1)\n",
            "Requirement already satisfied: pytz>=2017.2 in /usr/local/lib/python3.6/dist-packages (from pandas>=0.19->pyramid-arima) (2018.9)\n",
            "Requirement already satisfied: python-dateutil>=2.6.1 in /usr/local/lib/python3.6/dist-packages (from pandas>=0.19->pyramid-arima) (2.8.1)\n",
            "Requirement already satisfied: six in /usr/local/lib/python3.6/dist-packages (from patsy>=0.4.0->statsmodels>=0.9.0->pyramid-arima) (1.12.0)\n",
            "Installing collected packages: pyramid-arima\n",
            "Successfully installed pyramid-arima-0.9.0\n"
          ],
          "name": "stdout"
        }
      ]
    },
    {
      "cell_type": "code",
      "metadata": {
        "id": "Uvr90rbaZu1_",
        "colab_type": "code",
        "outputId": "8300d3fa-5935-4bb8-d7d8-448a36f43a6b",
        "colab": {
          "base_uri": "https://localhost:8080/",
          "height": 221
        }
      },
      "source": [
        "from pyramid import auto_arima\n",
        "model=auto_arima(train['Sales'],trace=True, error_action='ignore', suppress_warnings=True)\n",
        "model.fit(train[\"Sales\"])\n",
        "\n",
        "forecast=model.predict(n_periods=len(test))"
      ],
      "execution_count": 0,
      "outputs": [
        {
          "output_type": "stream",
          "text": [
            "Fit ARIMA: order=(2, 1, 2) seasonal_order=(0, 0, 0, 1); AIC=452.324, BIC=461.118, Fit time=0.255 seconds\n",
            "Fit ARIMA: order=(0, 1, 0) seasonal_order=(0, 0, 0, 1); AIC=470.044, BIC=472.975, Fit time=0.011 seconds\n",
            "Fit ARIMA: order=(1, 1, 0) seasonal_order=(0, 0, 0, 1); AIC=471.252, BIC=475.649, Fit time=0.060 seconds\n",
            "Fit ARIMA: order=(0, 1, 1) seasonal_order=(0, 0, 0, 1); AIC=463.750, BIC=468.147, Fit time=0.076 seconds\n",
            "Fit ARIMA: order=(1, 1, 2) seasonal_order=(0, 0, 0, 1); AIC=464.236, BIC=471.565, Fit time=0.174 seconds\n",
            "Fit ARIMA: order=(3, 1, 2) seasonal_order=(0, 0, 0, 1); AIC=436.133, BIC=446.393, Fit time=0.287 seconds\n",
            "Fit ARIMA: order=(3, 1, 1) seasonal_order=(0, 0, 0, 1); AIC=438.305, BIC=447.099, Fit time=0.270 seconds\n",
            "Fit ARIMA: order=(3, 1, 3) seasonal_order=(0, 0, 0, 1); AIC=439.126, BIC=450.852, Fit time=0.329 seconds\n",
            "Fit ARIMA: order=(2, 1, 1) seasonal_order=(0, 0, 0, 1); AIC=457.856, BIC=465.185, Fit time=0.166 seconds\n",
            "Fit ARIMA: order=(4, 1, 3) seasonal_order=(0, 0, 0, 1); AIC=446.114, BIC=459.305, Fit time=0.311 seconds\n",
            "Fit ARIMA: order=(4, 1, 2) seasonal_order=(0, 0, 0, 1); AIC=437.991, BIC=449.717, Fit time=0.370 seconds\n",
            "Total fit time: 2.321 seconds\n"
          ],
          "name": "stdout"
        }
      ]
    },
    {
      "cell_type": "code",
      "metadata": {
        "id": "MzVIswhGaQIk",
        "colab_type": "code",
        "outputId": "aea21643-4741-419c-bb32-fc0ec5fbd6bc",
        "colab": {
          "base_uri": "https://localhost:8080/",
          "height": 303
        }
      },
      "source": [
        "\n",
        "forecast = pd.DataFrame(forecast,index = test.index,columns=['Prediction'])\n",
        "\n",
        "#plot the predictions for validation set\n",
        "plt.plot(train['Sales'], label='Train')\n",
        "plt.plot(test['Sales'], label='Test')\n",
        "plt.plot(forecast, label='Prediction')\n",
        "plt.legend()\n",
        "plt.title('RMSE Score :{:.2f}'.format(np.sqrt(mean_squared_error(test['Sales'],forecast))))\n",
        "plt.show()"
      ],
      "execution_count": 0,
      "outputs": [
        {
          "output_type": "display_data",
          "data": {
            "image/png": "[encoded data removed]",
            "text/plain": [
              "<Figure size 432x288 with 1 Axes>"
            ]
          },
          "metadata": {
            "tags": []
          }
        }
      ]
    },
    {
      "cell_type": "markdown",
      "metadata": {
        "id": "zWHfdUvAss5a",
        "colab_type": "text"
      },
      "source": [
        "auto arima working better as compare to regression models"
      ]
    },
    {
      "cell_type": "markdown",
      "metadata": {
        "id": "MURXrGads1-B",
        "colab_type": "text"
      },
      "source": [
        "lets go for LSTM deep learning concepts"
      ]
    },
    {
      "cell_type": "code",
      "metadata": {
        "id": "47YZ_uh0h78F",
        "colab_type": "code",
        "outputId": "cc70c154-b158-49fa-a4f8-cd451785dc0e",
        "colab": {
          "base_uri": "https://localhost:8080/",
          "height": 34
        }
      },
      "source": [
        "from keras.layers import LSTM,Dense,Flatten,Dropout,Bidirectional\n",
        "from keras.models import Sequential\n",
        "from sklearn.preprocessing import MinMaxScaler"
      ],
      "execution_count": 0,
      "outputs": [
        {
          "output_type": "stream",
          "text": [
            "Using TensorFlow backend.\n"
          ],
          "name": "stderr"
        }
      ]
    },
    {
      "cell_type": "code",
      "metadata": {
        "id": "l02okP2oiVhC",
        "colab_type": "code",
        "outputId": "42ac614a-ce78-400b-8fa7-ce02c898abc9",
        "colab": {
          "base_uri": "https://localhost:8080/",
          "height": 1000
        }
      },
      "source": [
        "\n",
        "def create_dataset(dataset, lookback=1):\n",
        "    dataX = []\n",
        "    dataY = []\n",
        "    for i in range(len(dataset) - lookback - 1):\n",
        "        a = dataset[i: (i+lookback), 0]\n",
        "        dataX.append(a)\n",
        "        dataY.append(dataset[i+lookback,0])\n",
        "    return np.array(dataX), np.array(dataY)\n",
        "\n",
        "\n",
        "data = \"/content/drive/My Drive/Projects/CocaCola_Sales_Rawdata.xlsx\"\n",
        "\n",
        "np.random.seed(7)\n",
        "\n",
        "df = pd.read_excel(data, usecols=[1])\n",
        "df = df.dropna()\n",
        "dataset = df.values\n",
        "dataset = dataset.astype(\"float32\")\n",
        "\n",
        "scaler = MinMaxScaler(feature_range=(0,1))\n",
        "dataset = scaler.fit_transform(dataset)\n",
        "\n",
        "train_dataset = dataset[:int(len(dataset)*0.8), :]\n",
        "test_dataset = dataset[int(len(dataset)*0.8):, :]\n",
        "\n",
        "lookback = 1\n",
        "trainX, trainY = create_dataset(train_dataset, lookback)\n",
        "testX, testY = create_dataset(test_dataset, lookback)\n",
        "\n",
        "trainX = np.reshape(trainX, (trainX.shape[0], 1, trainX.shape[1]))\n",
        "testX = np.reshape(testX, (testX.shape[0], 1, testX.shape[1]))\n",
        "\n",
        "model = Sequential()\n",
        "model.add(Bidirectional(LSTM(20,return_sequences=True, input_shape=(1, lookback))))\n",
        "model.add(LSTM(20))\n",
        "\n",
        "model.add(Dense(1))\n",
        "model.compile(loss='mean_squared_error', optimizer='adam')\n",
        "model.fit(trainX, trainY, epochs=100, batch_size=1, verbose=2)\n",
        "\n",
        "# make predictions\n",
        "trainPredict = model.predict(trainX)\n",
        "testPredict = model.predict(testX)\n",
        "# invert predictions\n",
        "trainPredict = scaler.inverse_transform(trainPredict)\n",
        "trainY = scaler.inverse_transform([trainY])\n",
        "testPredict = scaler.inverse_transform(testPredict)\n",
        "testY = scaler.inverse_transform([testY])\n",
        "# calculate root mean squared error\n",
        "trainScore = np.sqrt(mean_squared_error(trainY[0], trainPredict[:,0]))\n",
        "print('Train Score: %.2f RMSE' % (trainScore))\n",
        "testScore = np.sqrt(mean_squared_error(testY[0], testPredict[:,0]))\n",
        "print('Test Score: %.2f RMSE' % (testScore))\n",
        "\n",
        "trainPredictPlot = np.empty_like(dataset)\n",
        "trainPredictPlot[:, :] = np.nan\n",
        "trainPredictPlot[lookback:len(trainPredict)+lookback, :] = trainPredict\n",
        "# shift test predictions for plotting\n",
        "testPredictPlot = np.empty_like(dataset) \n",
        "testPredictPlot[:, :] = np.nan\n",
        "testPredictPlot[len(trainPredict)+(lookback*2)+1:len(dataset)-1, :] = testPredict\n",
        "# plot baseline and predictions\n",
        "plt.plot(scaler.inverse_transform(dataset), label=\"Coca Cola Data\")\n",
        "plt.plot(trainPredictPlot, label=\"Train Prediction\")\n",
        "plt.plot(testPredictPlot, label=\"Test Prediction\")\n",
        "plt.xlabel(\"Observations\")\n",
        "plt.ylabel(\"Sales\")\n",
        "plt.legend()\n",
        "plt.show()\n",
        "\n"
      ],
      "execution_count": 0,
      "outputs": [
        {
          "output_type": "stream",
          "text": [
            "Epoch 1/100\n",
            " - 1s - loss: 0.0824\n",
            "Epoch 2/100\n",
            " - 0s - loss: 0.0416\n",
            "Epoch 3/100\n",
            " - 0s - loss: 0.0207\n",
            "Epoch 4/100\n",
            " - 0s - loss: 0.0172\n",
            "Epoch 5/100\n",
            " - 0s - loss: 0.0168\n",
            "Epoch 6/100\n",
            " - 0s - loss: 0.0151\n",
            "Epoch 7/100\n",
            " - 0s - loss: 0.0143\n",
            "Epoch 8/100\n",
            " - 0s - loss: 0.0135\n",
            "Epoch 9/100\n",
            " - 0s - loss: 0.0123\n",
            "Epoch 10/100\n",
            " - 0s - loss: 0.0114\n",
            "Epoch 11/100\n",
            " - 0s - loss: 0.0108\n",
            "Epoch 12/100\n",
            " - 0s - loss: 0.0102\n",
            "Epoch 13/100\n",
            " - 0s - loss: 0.0094\n",
            "Epoch 14/100\n",
            " - 0s - loss: 0.0093\n",
            "Epoch 15/100\n",
            " - 0s - loss: 0.0090\n",
            "Epoch 16/100\n",
            " - 0s - loss: 0.0097\n",
            "Epoch 17/100\n",
            " - 0s - loss: 0.0090\n",
            "Epoch 18/100\n",
            " - 0s - loss: 0.0086\n",
            "Epoch 19/100\n",
            " - 0s - loss: 0.0091\n",
            "Epoch 20/100\n",
            " - 0s - loss: 0.0088\n",
            "Epoch 21/100\n",
            " - 0s - loss: 0.0089\n",
            "Epoch 22/100\n",
            " - 0s - loss: 0.0096\n",
            "Epoch 23/100\n",
            " - 0s - loss: 0.0087\n",
            "Epoch 24/100\n",
            " - 0s - loss: 0.0088\n",
            "Epoch 25/100\n",
            " - 0s - loss: 0.0087\n",
            "Epoch 26/100\n",
            " - 0s - loss: 0.0090\n",
            "Epoch 27/100\n",
            " - 0s - loss: 0.0090\n",
            "Epoch 28/100\n",
            " - 0s - loss: 0.0090\n",
            "Epoch 29/100\n",
            " - 0s - loss: 0.0086\n",
            "Epoch 30/100\n",
            " - 0s - loss: 0.0088\n",
            "Epoch 31/100\n",
            " - 0s - loss: 0.0087\n",
            "Epoch 32/100\n",
            " - 0s - loss: 0.0088\n",
            "Epoch 33/100\n",
            " - 0s - loss: 0.0089\n",
            "Epoch 34/100\n",
            " - 0s - loss: 0.0088\n",
            "Epoch 35/100\n",
            " - 0s - loss: 0.0089\n",
            "Epoch 36/100\n",
            " - 0s - loss: 0.0088\n",
            "Epoch 37/100\n",
            " - 0s - loss: 0.0086\n",
            "Epoch 38/100\n",
            " - 0s - loss: 0.0094\n",
            "Epoch 39/100\n",
            " - 0s - loss: 0.0099\n",
            "Epoch 40/100\n",
            " - 0s - loss: 0.0089\n",
            "Epoch 41/100\n",
            " - 0s - loss: 0.0087\n",
            "Epoch 42/100\n",
            " - 0s - loss: 0.0089\n",
            "Epoch 43/100\n",
            " - 0s - loss: 0.0088\n",
            "Epoch 44/100\n",
            " - 0s - loss: 0.0092\n",
            "Epoch 45/100\n",
            " - 0s - loss: 0.0091\n",
            "Epoch 46/100\n",
            " - 0s - loss: 0.0095\n",
            "Epoch 47/100\n",
            " - 0s - loss: 0.0091\n",
            "Epoch 48/100\n",
            " - 0s - loss: 0.0088\n",
            "Epoch 49/100\n",
            " - 0s - loss: 0.0090\n",
            "Epoch 50/100\n",
            " - 0s - loss: 0.0090\n",
            "Epoch 51/100\n",
            " - 0s - loss: 0.0089\n",
            "Epoch 52/100\n",
            " - 0s - loss: 0.0089\n",
            "Epoch 53/100\n",
            " - 0s - loss: 0.0089\n",
            "Epoch 54/100\n",
            " - 0s - loss: 0.0087\n",
            "Epoch 55/100\n",
            " - 0s - loss: 0.0087\n",
            "Epoch 56/100\n",
            " - 0s - loss: 0.0095\n",
            "Epoch 57/100\n",
            " - 0s - loss: 0.0099\n",
            "Epoch 58/100\n",
            " - 0s - loss: 0.0085\n",
            "Epoch 59/100\n",
            " - 0s - loss: 0.0089\n",
            "Epoch 60/100\n",
            " - 0s - loss: 0.0086\n",
            "Epoch 61/100\n",
            " - 0s - loss: 0.0092\n",
            "Epoch 62/100\n",
            " - 0s - loss: 0.0092\n",
            "Epoch 63/100\n",
            " - 0s - loss: 0.0099\n",
            "Epoch 64/100\n",
            " - 0s - loss: 0.0090\n",
            "Epoch 65/100\n",
            " - 0s - loss: 0.0088\n",
            "Epoch 66/100\n",
            " - 0s - loss: 0.0089\n",
            "Epoch 67/100\n",
            " - 0s - loss: 0.0086\n",
            "Epoch 68/100\n",
            " - 0s - loss: 0.0090\n",
            "Epoch 69/100\n",
            " - 0s - loss: 0.0089\n",
            "Epoch 70/100\n",
            " - 0s - loss: 0.0087\n",
            "Epoch 71/100\n",
            " - 0s - loss: 0.0089\n",
            "Epoch 72/100\n",
            " - 0s - loss: 0.0086\n",
            "Epoch 73/100\n",
            " - 0s - loss: 0.0089\n",
            "Epoch 74/100\n",
            " - 0s - loss: 0.0092\n",
            "Epoch 75/100\n",
            " - 0s - loss: 0.0096\n",
            "Epoch 76/100\n",
            " - 0s - loss: 0.0091\n",
            "Epoch 77/100\n",
            " - 0s - loss: 0.0090\n",
            "Epoch 78/100\n",
            " - 0s - loss: 0.0091\n",
            "Epoch 79/100\n",
            " - 0s - loss: 0.0087\n",
            "Epoch 80/100\n",
            " - 0s - loss: 0.0086\n",
            "Epoch 81/100\n",
            " - 0s - loss: 0.0091\n",
            "Epoch 82/100\n",
            " - 0s - loss: 0.0093\n",
            "Epoch 83/100\n",
            " - 0s - loss: 0.0092\n",
            "Epoch 84/100\n",
            " - 0s - loss: 0.0088\n",
            "Epoch 85/100\n",
            " - 0s - loss: 0.0088\n",
            "Epoch 86/100\n",
            " - 0s - loss: 0.0088\n",
            "Epoch 87/100\n",
            " - 0s - loss: 0.0087\n",
            "Epoch 88/100\n",
            " - 0s - loss: 0.0086\n",
            "Epoch 89/100\n",
            " - 0s - loss: 0.0088\n",
            "Epoch 90/100\n",
            " - 0s - loss: 0.0089\n",
            "Epoch 91/100\n",
            " - 0s - loss: 0.0091\n",
            "Epoch 92/100\n",
            " - 0s - loss: 0.0089\n",
            "Epoch 93/100\n",
            " - 0s - loss: 0.0087\n",
            "Epoch 94/100\n",
            " - 0s - loss: 0.0087\n",
            "Epoch 95/100\n",
            " - 0s - loss: 0.0088\n",
            "Epoch 96/100\n",
            " - 0s - loss: 0.0088\n",
            "Epoch 97/100\n",
            " - 0s - loss: 0.0091\n",
            "Epoch 98/100\n",
            " - 0s - loss: 0.0089\n",
            "Epoch 99/100\n",
            " - 0s - loss: 0.0087\n",
            "Epoch 100/100\n",
            " - 0s - loss: 0.0087\n",
            "Train Score: 339.79 RMSE\n",
            "Test Score: 511.01 RMSE\n"
          ],
          "name": "stdout"
        },
        {
          "output_type": "display_data",
          "data": {
            "image/png": "[encoded data removed]",
            "text/plain": [
              "<Figure size 432x288 with 1 Axes>"
            ]
          },
          "metadata": {
            "tags": []
          }
        }
      ]
    },
    {
      "cell_type": "markdown",
      "metadata": {
        "id": "tWIFUmHmxXpy",
        "colab_type": "text"
      },
      "source": [
        "we can see LSTM works nice as compare to arima and prophet model.\n",
        "\n",
        "deep learning is always hungry for data so add more data for good predictions."
      ]
    },
    {
      "cell_type": "code",
      "metadata": {
        "id": "uasXSutejE2_",
        "colab_type": "code",
        "outputId": "90371557-24b2-4aad-fb0b-42e9bcdeba56",
        "colab": {
          "base_uri": "https://localhost:8080/",
          "height": 731
        }
      },
      "source": [
        "trainPredictPlot"
      ],
      "execution_count": 0,
      "outputs": [
        {
          "output_type": "execute_result",
          "data": {
            "text/plain": [
              "array([[      nan],\n",
              "       [1973.9025],\n",
              "       [2337.3164],\n",
              "       [2560.1836],\n",
              "       [2270.3726],\n",
              "       [1850.5288],\n",
              "       [2233.298 ],\n",
              "       [2168.2014],\n",
              "       [2152.0432],\n",
              "       [2065.7239],\n",
              "       [2389.201 ],\n",
              "       [2250.785 ],\n",
              "       [2177.1409],\n",
              "       [2094.7036],\n",
              "       [2402.559 ],\n",
              "       [2308.5984],\n",
              "       [2284.409 ],\n",
              "       [2265.4478],\n",
              "       [2726.009 ],\n",
              "       [2770.098 ],\n",
              "       [2577.815 ],\n",
              "       [2518.518 ],\n",
              "       [2978.6562],\n",
              "       [3094.001 ],\n",
              "       [2842.0664],\n",
              "       [2752.931 ],\n",
              "       [3434.5083],\n",
              "       [3395.8413],\n",
              "       [3157.3342],\n",
              "       [2992.8677],\n",
              "       [3763.088 ],\n",
              "       [3507.7666],\n",
              "       [      nan],\n",
              "       [      nan],\n",
              "       [      nan],\n",
              "       [      nan],\n",
              "       [      nan],\n",
              "       [      nan],\n",
              "       [      nan],\n",
              "       [      nan],\n",
              "       [      nan],\n",
              "       [      nan]], dtype=float32)"
            ]
          },
          "metadata": {
            "tags": []
          },
          "execution_count": 159
        }
      ]
    },
    {
      "cell_type": "code",
      "metadata": {
        "id": "HHK9odolwgga",
        "colab_type": "code",
        "outputId": "109b02b6-65a7-4cf0-f9b8-b15afdc1ff8b",
        "colab": {
          "base_uri": "https://localhost:8080/",
          "height": 731
        }
      },
      "source": [
        "testPredictPlot"
      ],
      "execution_count": 0,
      "outputs": [
        {
          "output_type": "execute_result",
          "data": {
            "text/plain": [
              "array([[      nan],\n",
              "       [      nan],\n",
              "       [      nan],\n",
              "       [      nan],\n",
              "       [      nan],\n",
              "       [      nan],\n",
              "       [      nan],\n",
              "       [      nan],\n",
              "       [      nan],\n",
              "       [      nan],\n",
              "       [      nan],\n",
              "       [      nan],\n",
              "       [      nan],\n",
              "       [      nan],\n",
              "       [      nan],\n",
              "       [      nan],\n",
              "       [      nan],\n",
              "       [      nan],\n",
              "       [      nan],\n",
              "       [      nan],\n",
              "       [      nan],\n",
              "       [      nan],\n",
              "       [      nan],\n",
              "       [      nan],\n",
              "       [      nan],\n",
              "       [      nan],\n",
              "       [      nan],\n",
              "       [      nan],\n",
              "       [      nan],\n",
              "       [      nan],\n",
              "       [      nan],\n",
              "       [      nan],\n",
              "       [      nan],\n",
              "       [      nan],\n",
              "       [4196.6997],\n",
              "       [4315.847 ],\n",
              "       [3876.9182],\n",
              "       [3720.0256],\n",
              "       [4800.249 ],\n",
              "       [4757.966 ],\n",
              "       [4187.73  ],\n",
              "       [      nan]], dtype=float32)"
            ]
          },
          "metadata": {
            "tags": []
          },
          "execution_count": 160
        }
      ]
    },
    {
      "cell_type": "code",
      "metadata": {
        "id": "KGvRt7Dwzepq",
        "colab_type": "code",
        "outputId": "1f6ee8fe-a1f7-4cfc-e99d-6291f828eda9",
        "colab": {
          "base_uri": "https://localhost:8080/",
          "height": 731
        }
      },
      "source": [
        "scaler.inverse_transform(dataset)"
      ],
      "execution_count": 0,
      "outputs": [
        {
          "output_type": "execute_result",
          "data": {
            "text/plain": [
              "array([[1734.827 ],\n",
              "       [2244.961 ],\n",
              "       [2533.805 ],\n",
              "       [2154.963 ],\n",
              "       [1547.819 ],\n",
              "       [2104.412 ],\n",
              "       [2014.3629],\n",
              "       [1991.747 ],\n",
              "       [1869.05  ],\n",
              "       [2313.632 ],\n",
              "       [2128.32  ],\n",
              "       [2026.829 ],\n",
              "       [1910.604 ],\n",
              "       [2331.165 ],\n",
              "       [2206.55  ],\n",
              "       [2173.968 ],\n",
              "       [2148.278 ],\n",
              "       [2739.308 ],\n",
              "       [2792.754 ],\n",
              "       [2556.01  ],\n",
              "       [2480.974 ],\n",
              "       [3039.523 ],\n",
              "       [3172.116 ],\n",
              "       [2879.001 ],\n",
              "       [2772.    ],\n",
              "       [3550.0002],\n",
              "       [3508.0002],\n",
              "       [3243.86  ],\n",
              "       [3056.    ],\n",
              "       [3899.    ],\n",
              "       [3629.    ],\n",
              "       [3373.    ],\n",
              "       [3352.    ],\n",
              "       [4342.    ],\n",
              "       [4461.    ],\n",
              "       [4016.9998],\n",
              "       [3854.    ],\n",
              "       [4936.    ],\n",
              "       [4895.    ],\n",
              "       [4333.    ],\n",
              "       [4194.    ],\n",
              "       [5253.    ]], dtype=float32)"
            ]
          },
          "metadata": {
            "tags": []
          },
          "execution_count": 162
        }
      ]
    },
    {
      "cell_type": "code",
      "metadata": {
        "id": "V0CBzbGazk6o",
        "colab_type": "code",
        "colab": {}
      },
      "source": [
        ""
      ],
      "execution_count": 0,
      "outputs": []
    }
  ]
}